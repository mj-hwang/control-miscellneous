{
 "cells": [
  {
   "cell_type": "code",
   "execution_count": 1,
   "metadata": {},
   "outputs": [],
   "source": [
    "import numpy as np\n",
    "import matplotlib.pyplot as plt\n",
    "from matplotlib.lines import Line2D"
   ]
  },
  {
   "cell_type": "markdown",
   "metadata": {},
   "source": [
    "# Linear Quadratic System and Variations"
   ]
  },
  {
   "cell_type": "markdown",
   "metadata": {},
   "source": [
    "## 1. LQR in LTI (Linear Time Invarient) System"
   ]
  },
  {
   "cell_type": "markdown",
   "metadata": {},
   "source": [
    "### 1.1 Formulation\n",
    "\n",
    "The time-invariant LQ system assumes following two conditions for $t = 1,2, ..., H$.\n",
    "\n",
    "- **time-invariant linear dynamical system (LTI)**\n",
    "$$x_{t+1} = Ax_t + Bu_t$$\n",
    "    \n",
    "- **quadratic cost function**\n",
    "$$c(x_t, u_t) = {x_t}^\\top Qx_t + {u_t}^\\top Ru_t$$\n",
    "\n",
    "\n",
    "We would like to solve the optimal control problem shown below.\n",
    "\n",
    "$$\\min_{x,u} \\sum_{t=0}^{H-1} ({x_t}^\\top  Q x_t + {u_t}^\\top  R u_t) \\\\ \\text{s.t. }x_{t+1} = A x_t + B u_t$$\n",
    "\n",
    "*In the case of the infinite horizon problem, $H$ is infinity*"
   ]
  },
  {
   "cell_type": "code",
   "execution_count": 7,
   "metadata": {},
   "outputs": [],
   "source": [
    "class LTIEnv(object):\n",
    "    def __init__(self, A, B, Q, R, x_init):\n",
    "        self.A = A\n",
    "        self.B = B\n",
    "        self.x_dim = self.A.shape[0]\n",
    "        self.u_dim = self.B.shape[1]\n",
    "        self.Q = Q\n",
    "        self.R = R\n",
    "        self.x_init = x_init\n",
    "        self.x_curr = x_init\n",
    "        self.t = 0\n",
    "        \n",
    "    def controllable(self):\n",
    "        # controllability matrix\n",
    "        C = [self.B]\n",
    "        for i in range(self.x_dim):\n",
    "            C.append(self.A @ C[-1])\n",
    "        return np.linalg.matrix_rank(np.hstack(C)) == x_dim\n",
    "\n",
    "    def step(self, u, noise=None):\n",
    "        if noise is not None:\n",
    "            assert noise.shape == self.x_curr.shape\n",
    "            x = self.A @ self.x_curr + self.B @ u + noise\n",
    "        else:\n",
    "            x = self.A @ self.x_curr + self.B @ u\n",
    "        c = self.x_curr.T @ self.Q @ self.x_curr + u.T @ self.R @ u # cost\n",
    "        self.x_curr = x.copy()\n",
    "        self.t += 1\n",
    "        return x, c\n",
    "\n",
    "    def get_state(self):\n",
    "        return self.x_curr.copy()\n",
    "    \n",
    "    def set_state(self, x):\n",
    "        self.x_curr = x.copy()\n",
    "\n",
    "    def reset(self):\n",
    "        self.x_curr = self.x_init.copy()\n",
    "        \n",
    "# helper function for generating a PSD\n",
    "def generate_PSD(dim):\n",
    "    X = np.random.rand(dim, dim)\n",
    "    return X @ X.T"
   ]
  },
  {
   "cell_type": "code",
   "execution_count": 8,
   "metadata": {},
   "outputs": [
    {
     "name": "stdout",
     "output_type": "stream",
     "text": [
      "this env is controllable\n"
     ]
    }
   ],
   "source": [
    "x_dim = 4 # state dimension\n",
    "u_dim = 3 # action dimension\n",
    "\n",
    "lti_env = LTIEnv(A=np.random.randn(x_dim, x_dim),\n",
    "                 B=np.random.randn(x_dim, u_dim),\n",
    "                 Q=generate_PSD(x_dim),\n",
    "                 R=generate_PSD(u_dim),\n",
    "                 x_init=np.array([-1.9613, 1.9277, -0.2442, 0.1234]))\n",
    "\n",
    "if lti_env.controllable:\n",
    "    print(\"this env is controllable\")\n",
    "else:\n",
    "    print(\"this env is not controllable; reinitialize the environment.\")"
   ]
  },
  {
   "cell_type": "markdown",
   "metadata": {},
   "source": [
    "### 1.2 Solution with Value Iteration\n",
    "\n",
    "We first define a cost-to-go function $J_i$ in order to find a optimal policy for a $i$-step horizon.\n",
    "\n",
    "$$J_{i+1}(x) = \\min_u[x^\\top Qx + u^\\top  Ru + J_i(Ax + Bu)]$$ \n",
    "\n",
    "Then, by setting the gradient w.r.t $u$ to zero, we get the following result.\n",
    "\n",
    "for $i=1,2,3,...$\n",
    "\n",
    "- **optimal policy**\n",
    "    - $\\pi(x) = K_{i}x$, where\n",
    "      $$K_{i} = -(R + B^{\\top} P_{i-1} B)^{-1} B^{\\top} P_{i-1} A$$\n",
    "    \n",
    "    \n",
    "- **quadratic cost function**\n",
    "    - $J_i(x) = x^\\top P_{i}x$, where\n",
    "      $$P_i = Q + {K_i}^{\\top}R K_i + (A + B K_i)^{\\top} P_{i-1} (A + B K_i)$$\n",
    "    \n",
    "**$P_0 = 0$*"
   ]
  },
  {
   "cell_type": "code",
   "execution_count": 9,
   "metadata": {},
   "outputs": [],
   "source": [
    "def lqr_infinite(lti_env, threshold=1e-4):\n",
    "    A = lti_env.A\n",
    "    B = lti_env.B\n",
    "    Q = lti_env.Q\n",
    "    R = lti_env.R\n",
    "    x_dim = lti_env.x_dim\n",
    "    u_dim = lti_env.u_dim\n",
    "    \n",
    "    P, K_current = np.eye(x_dim), np.zeros((u_dim, x_dim))\n",
    "    while True:\n",
    "        K_new = -np.linalg.inv(R + B.T @ P @ B) @ B.T @ P @ A\n",
    "        if np.linalg.norm(K_new - K_current) <= threshold:\n",
    "            break\n",
    "        else:\n",
    "            K_current = K_new\n",
    "            P = Q + K_current.T @ R @ K_current + (A + B @ K_current).T @ P @ (A + B @ K_current)\n",
    "    return K_new, P\n",
    "    "
   ]
  },
  {
   "cell_type": "markdown",
   "metadata": {},
   "source": [
    "### 1.3 Experiment"
   ]
  },
  {
   "cell_type": "code",
   "execution_count": 10,
   "metadata": {},
   "outputs": [],
   "source": [
    "K_inf, P = lqr_infinite(lti_env)"
   ]
  },
  {
   "cell_type": "code",
   "execution_count": 23,
   "metadata": {},
   "outputs": [
    {
     "data": {
      "image/png": "[encoded data removed]",
      "text/plain": [
       "<Figure size 432x288 with 1 Axes>"
      ]
     },
     "metadata": {
      "needs_background": "light"
     },
     "output_type": "display_data"
    },
    {
     "data": {
      "image/png": "[encoded data removed]",
      "text/plain": [
       "<Figure size 432x288 with 1 Axes>"
      ]
     },
     "metadata": {
      "needs_background": "light"
     },
     "output_type": "display_data"
    }
   ],
   "source": [
    "# simulate the forward pass and plot the cost over time\n",
    "def lti_simulate(lti_env, K, T, noise=False):\n",
    "    lti_env.reset() \n",
    "    costs = []\n",
    "    x = lti_env.get_state()\n",
    "    for t in np.arange(T):\n",
    "        u = K @ x\n",
    "        if noise:\n",
    "            x, c = lti_env.step(u, noise=0.3 * np.random.rand(lin_env.x_dim))\n",
    "        else:\n",
    "            x, c = lti_env.step(u)\n",
    "        costs.append(c)\n",
    "    plt.plot(costs, linewidth=.7)\n",
    "    \n",
    "    if noise:\n",
    "        plt.title('Cost in LTI system with noise by LQR')\n",
    "    else:\n",
    "        plt.title('Cost in LTI system by LQR')\n",
    "    \n",
    "    plt.xlabel('time (step number)')\n",
    "    plt.xticks(np.arange(20))\n",
    "    plt.ylabel('cost')\n",
    "    plt.show()\n",
    "        \n",
    "\n",
    "T = 20 # simulating for 20 steps\n",
    "lti_simulate(lti_env, K_inf, T)\n",
    "lti_simulate(lti_env, K_inf, T, noise=True)\n",
    "\n",
    "# write cost or l2 norm of x\n",
    "# write unit (discrete) "
   ]
  },
  {
   "cell_type": "markdown",
   "metadata": {},
   "source": [
    "## 2. LQR in LTI (Linear Time Invarient) System"
   ]
  },
  {
   "cell_type": "markdown",
   "metadata": {},
   "source": [
    "### 2.1 Formulation\n",
    "\n",
    "The time-invariant LQ system assumes following two conditions for $t = 1,2, ..., T$.\n",
    "\n",
    "- **time-variant linear dynamical system (LTV)**\n",
    "$$x_{t+1} = A_t x_t + B_t u_t$$\n",
    "    \n",
    "- **quadratic cost function**\n",
    "$$c(x_t, u_t) = {x_t}^\\top Qx_t + {u_t}^\\top Ru_t$$\n",
    "\n",
    "We would like to solve the optimal control problem shown below.\n",
    "\n",
    "$$\\min_{x,u} \\sum_{t=1}^T (x_t^\\top Q_t x_t + u_t^\\top R_t u_t)  \\\\ \\text{s.t. }x_{t+1} = A_t x_t + B_t u_t$$"
   ]
  },
  {
   "cell_type": "code",
   "execution_count": 24,
   "metadata": {},
   "outputs": [],
   "source": [
    "# Q and R are fixed in this implementation\n",
    "class LTVEnv(object):\n",
    "    def __init__(self, A_lst, B_lst, Q, R, x_init):\n",
    "        self.A_lst = A_lst\n",
    "        self.B_lst = B_lst\n",
    "        self.x_dim = self.A[0].shape[0]\n",
    "        self.u_dim = self.B[0].shape[1]\n",
    "        self.Q = Q\n",
    "        self.R = R\n",
    "        self.x_init = x_init\n",
    "        self.x_curr = x_init\n",
    "        # self.T = len(self.A_lst)\n",
    "        self.t = 0\n",
    "\n",
    "    def step(self, u, noise=None):\n",
    "        if noise is not None:\n",
    "            assert noise.shape == self.x_curr.shape\n",
    "            x = self.A_lst[t] @ self.x_curr + self.B_lst[t] @ u + noise\n",
    "        else:\n",
    "            x = self.A_lst[t] @ self.x_curr + self.B_lst[t] @ u\n",
    "        c = self.x_curr.T @ self.Q @ self.x_curr + u.T @ self.R @ u # cost\n",
    "        self.x_curr = x.copy()\n",
    "        self.t += 1\n",
    "        return x, c\n",
    "\n",
    "    def get_state(self):\n",
    "        return self.x_curr.copy()\n",
    "    \n",
    "    def set_state(self, x):\n",
    "        self.x_curr = x.copy()\n",
    "\n",
    "    def reset(self):\n",
    "        self.x_curr = self.x_init.copy()\n",
    "        \n",
    "# helper function for generating a PSD\n",
    "def generate_PSD(dim):\n",
    "    X = np.random.rand(dim, dim)\n",
    "    return X @ X.T"
   ]
  },
  {
   "cell_type": "markdown",
   "metadata": {},
   "source": [
    "### 2.2 Solution with Value Iteration\n",
    "\n",
    "We first define a cost-to-go function $J_i$ in order to find a optimal policy for a $i$-step horizon.\n",
    "\n",
    "$$J_{i+1}(x) = \\min_u[x^\\top Qx + u^\\top  Ru + J_i(Ax + Bu)]$$ \n",
    "\n",
    "Then, by setting the gradient w.r.t $u$ to zero, we get the following result.\n",
    "\n",
    "for $i=1,2,3,...$\n",
    "\n",
    "- **optimal policy**\n",
    "    - $\\pi(x) = K_{i}x$, where\n",
    "      $$K_{i} = -(R + B^{\\top} P_{i-1} B)^{-1} B^{\\top} P_{i-1} A$$\n",
    "    \n",
    "    \n",
    "- **quadratic cost function**\n",
    "    - $J_i(x) = x^\\top P_{i}x$, where\n",
    "      $$P_i = Q + {K_i}^{\\top}R K_i + (A + B K_i)^{\\top} P_{i-1} (A + B K_i)$$\n",
    "    \n",
    "**$P_0 = 0$*"
   ]
  },
  {
   "cell_type": "code",
   "execution_count": 33,
   "metadata": {},
   "outputs": [],
   "source": [
    "def lqr_finite(ltv_env):\n",
    "    \n",
    "    A_lst = ltv_env.A_lst\n",
    "    B_lst = ltv_env.B_lst\n",
    "    Q = ltv_env.Q\n",
    "    R = ltv_env.R\n",
    "    x_dim = ltv_env.x_dim\n",
    "    u_dim = ltv_env.u_dim\n",
    "\n",
    "    K_lst, P_lst= [], []    \n",
    "    P_lst.append(np.zeros((x_dim, x_dim)))\n",
    "    K_lst.append(np.zeros((u_dim, x_dim)))\n",
    "    \n",
    "    for t in range(1, T+1):\n",
    "        A = A_lst[T-t]\n",
    "        B = B_lst[T-t]\n",
    "        Q = Q\n",
    "        R = R\n",
    "        K_t = -np.linalg.inv(R + B.T @ P_lst[t-1] @ B) @ B.T @ P_lst[t-1] @ A\n",
    "        P_t = Q + K_t.T @ R @ K_t + (A + B @ K_t).T @ P_lst[t-1] @ (A + B @ K_t)\n",
    "        K_lst.append(K_t) \n",
    "        P_lst.append(P_t)\n",
    "    \n",
    "    K_lst = K_lst[1:]\n",
    "    P_lst = P_lst[1:]\n",
    "    \n",
    "    return K_lst, P_lst"
   ]
  },
  {
   "cell_type": "code",
   "execution_count": 38,
   "metadata": {},
   "outputs": [
    {
     "data": {
      "image/png": "[encoded data removed]",
      "text/plain": [
       "<Figure size 432x288 with 1 Axes>"
      ]
     },
     "metadata": {
      "needs_background": "light"
     },
     "output_type": "display_data"
    },
    {
     "data": {
      "image/png": "[encoded data removed]",
      "text/plain": [
       "<Figure size 432x288 with 1 Axes>"
      ]
     },
     "metadata": {
      "needs_background": "light"
     },
     "output_type": "display_data"
    },
    {
     "data": {
      "image/png": "[encoded data removed]",
      "text/plain": [
       "<Figure size 432x288 with 1 Axes>"
      ]
     },
     "metadata": {
      "needs_background": "light"
     },
     "output_type": "display_data"
    }
   ],
   "source": [
    "T = 50\n",
    "A_lst = [np.array([[np.sin(t), -0.5049, 0.0299, 2.6544],\n",
    "              [2.3846, -0.2312, -0.1260, -0.7945],\n",
    "              [-0.0254, 0.4595, -0.0862, 2.1750],\n",
    "              [0.5172, 0.5060, 1.6579, -0.9407]]) for t in range(T)]\n",
    "B_lst = [np.array([[-0.7789, np.cos(t), -1.2076],\n",
    "              [0.4299, -1.6041, np.sin(t)],\n",
    "              [3*np.sin(t), 0.8302, 0.2295],\n",
    "              [-1.8465, np.cos(t), 0.3241]]) for t in range(T)]\n",
    "\n",
    "starting_states = np.array([[-1.9613, 1.9277, -0.2442],\n",
    "                            [-1.3127, -0.2406, -0.0260],\n",
    "                            [0.0698, -0.5860, -0.7522],\n",
    "                            [0.0935, -0.1524, -0.9680]])\n",
    "n_starting_states = starting_states.shape[1]\n",
    "\n",
    "K_lst, P_lst = lqr_finite(A_lst, B_lst, Q, R, T)\n",
    "\n",
    "def simulate(A_lst, B_lst, K_list, n_starting_states, T, noise=None):\n",
    "    for s in np.arange(n_starting_states):\n",
    "        x, u = np.zeros((K_list[0].shape[1], T+1)), np.zeros((K_list[0].shape[0], T+1))\n",
    "        x[:,0] = starting_states[:,s]\n",
    "        for t in np.arange(T):\n",
    "            u[:,t] = K_lst[T-t-1] @ x[:,t]\n",
    "            x[:,t+1] = A_lst[t] @ x[:,t] + B_lst[t] @ u[:,t]\n",
    "            if noise is not None:\n",
    "                x[:,t+1] += noise[:,t]\n",
    "        plt.plot(x.T, linewidth=.7)\n",
    "        plt.plot(np.squeeze(u.T), linewidth=.7, linestyle='--')\n",
    "        legend_elements = [Line2D([0], [0], label='x'),Line2D([0], [0], linestyle='--', label='u')]\n",
    "        plt.legend(handles=legend_elements)\n",
    "        plt.xlabel('time')\n",
    "        plt.show()\n",
    "\n",
    "simulate(A_lst, B_lst, K_lst, n_starting_states, T)"
   ]
  },
  {
   "cell_type": "markdown",
   "metadata": {},
   "source": [
    "## 3. Trajectory Following"
   ]
  },
  {
   "cell_type": "markdown",
   "metadata": {},
   "source": [
    "### 3.1 Formulation\n",
    "\n",
    "**define**\n",
    "\n",
    "Given a feasible trajectory $\\{ x_t, u_t\\}_{t=0}^{H-1}$ , we define our optimization problem as follows:\n",
    "\n",
    "$$\\min_{u_0, ..., u_{H-1}} \\sum_{t=0}^{H-1} (((x_t-x_t^*)\\top Q_t (x_t-x_t^*) + (u_t-u_t^*)\\top R_t (u_t-u_t^*))) \\\\ \\text{s.t. }x_{t+1} = f(x_t, u_t)$$"
   ]
  },
  {
   "cell_type": "markdown",
   "metadata": {},
   "source": [
    "**first LTV, then non-linear**\n",
    "\n",
    "**say it on the math, saying q: psd, r: pd** \n",
    "\n",
    "\n",
    "lti, ltv - check answer to test my code."
   ]
  },
  {
   "cell_type": "code",
   "execution_count": null,
   "metadata": {},
   "outputs": [],
   "source": []
  }
 ],
 "metadata": {
  "kernelspec": {
   "display_name": "Python 3",
   "language": "python",
   "name": "python3"
  },
  "language_info": {
   "codemirror_mode": {
    "name": "ipython",
    "version": 3
   },
   "file_extension": ".py",
   "mimetype": "text/x-python",
   "name": "python",
   "nbconvert_exporter": "python",
   "pygments_lexer": "ipython3",
   "version": "3.7.4"
  }
 },
 "nbformat": 4,
 "nbformat_minor": 4
}
